{
 "cells": [
  {
   "cell_type": "code",
   "execution_count": 1,
   "id": "35a019ca",
   "metadata": {
    "tags": []
   },
   "outputs": [],
   "source": [
    "import boto3\n",
    "import sagemaker\n",
    "from sagemaker import get_execution_role\n",
    "sess = boto3.Session()\n",
    "sm = sess.client('sagemaker')\n",
    "role = sagemaker.get_execution_role()"
   ]
  },
  {
   "cell_type": "code",
   "execution_count": 2,
   "id": "4ada4edc",
   "metadata": {
    "tags": []
   },
   "outputs": [],
   "source": [
    "# Replace these values with your specific ones\n",
    "docker_image_inference = '373770620841.dkr.ecr.ap-southeast-2.amazonaws.com/chatgptdetector-inference:chatgptdetector_image'\n",
    "endpoint_name = 'chatgpt-detector-endpoint'\n",
    "\n",
    "# Create a SageMaker client\n",
    "sagemaker = boto3.client('sagemaker', region_name='ap-southeast-2')\n",
    "\n",
    "# Create the model\n",
    "model_name = 'chatgptdetector'\n",
    "model_data = 's3://chatgptdetector/chatgptdetector/latest/model/model.tar.gz'\n",
    "\n",
    "\n",
    "primary_container = {\n",
    "    'Image': docker_image_inference,\n",
    "    'ModelDataUrl': model_data,\n",
    "}\n",
    "\n",
    "create_model_response = sagemaker.create_model(\n",
    "    ModelName=model_name,\n",
    "    ExecutionRoleArn=role,\n",
    "    PrimaryContainer=primary_container,\n",
    ")"
   ]
  },
  {
   "cell_type": "code",
   "execution_count": 3,
   "id": "97d6369d",
   "metadata": {
    "tags": []
   },
   "outputs": [],
   "source": [
    "# Create the endpoint configuration\n",
    "endpoint_config_name = 'chatgpt-detector-endpoint'\n",
    "create_endpoint_config_response = sagemaker.create_endpoint_config(\n",
    "    EndpointConfigName=endpoint_config_name,\n",
    "    ProductionVariants=[\n",
    "        {\n",
    "            'VariantName': 'AllTraffic',\n",
    "            'ModelName': model_name,\n",
    "            'InitialInstanceCount': 1,\n",
    "            'InstanceType': 'ml.m4.xlarge',  # Replace with your desired instance type\n",
    "        },\n",
    "    ],\n",
    ")"
   ]
  },
  {
   "cell_type": "code",
   "execution_count": 4,
   "id": "d4eeaf95",
   "metadata": {
    "tags": []
   },
   "outputs": [
    {
     "ename": "ResourceAlreadyExistsException",
     "evalue": "An error occurred (ResourceAlreadyExistsException) when calling the CreateLogGroup operation: The specified log group already exists",
     "output_type": "error",
     "traceback": [
      "\u001b[0;31m---------------------------------------------------------------------------\u001b[0m",
      "\u001b[0;31mResourceAlreadyExistsException\u001b[0m            Traceback (most recent call last)",
      "Cell \u001b[0;32mIn[4], line 5\u001b[0m\n\u001b[1;32m      3\u001b[0m \u001b[38;5;66;03m# Create the CloudWatch log group\u001b[39;00m\n\u001b[1;32m      4\u001b[0m logs \u001b[38;5;241m=\u001b[39m boto3\u001b[38;5;241m.\u001b[39mclient(\u001b[38;5;124m'\u001b[39m\u001b[38;5;124mlogs\u001b[39m\u001b[38;5;124m'\u001b[39m, region_name\u001b[38;5;241m=\u001b[39m\u001b[38;5;124m'\u001b[39m\u001b[38;5;124map-southeast-2\u001b[39m\u001b[38;5;124m'\u001b[39m)  \u001b[38;5;66;03m# Replace with your desired region\u001b[39;00m\n\u001b[0;32m----> 5\u001b[0m \u001b[43mlogs\u001b[49m\u001b[38;5;241;43m.\u001b[39;49m\u001b[43mcreate_log_group\u001b[49m\u001b[43m(\u001b[49m\u001b[43mlogGroupName\u001b[49m\u001b[38;5;241;43m=\u001b[39;49m\u001b[43mlog_group_name\u001b[49m\u001b[43m)\u001b[49m\n",
      "File \u001b[0;32m~/anaconda3/envs/python3/lib/python3.10/site-packages/botocore/client.py:530\u001b[0m, in \u001b[0;36mClientCreator._create_api_method.<locals>._api_call\u001b[0;34m(self, *args, **kwargs)\u001b[0m\n\u001b[1;32m    526\u001b[0m     \u001b[38;5;28;01mraise\u001b[39;00m \u001b[38;5;167;01mTypeError\u001b[39;00m(\n\u001b[1;32m    527\u001b[0m         \u001b[38;5;124mf\u001b[39m\u001b[38;5;124m\"\u001b[39m\u001b[38;5;132;01m{\u001b[39;00mpy_operation_name\u001b[38;5;132;01m}\u001b[39;00m\u001b[38;5;124m() only accepts keyword arguments.\u001b[39m\u001b[38;5;124m\"\u001b[39m\n\u001b[1;32m    528\u001b[0m     )\n\u001b[1;32m    529\u001b[0m \u001b[38;5;66;03m# The \"self\" in this scope is referring to the BaseClient.\u001b[39;00m\n\u001b[0;32m--> 530\u001b[0m \u001b[38;5;28;01mreturn\u001b[39;00m \u001b[38;5;28;43mself\u001b[39;49m\u001b[38;5;241;43m.\u001b[39;49m\u001b[43m_make_api_call\u001b[49m\u001b[43m(\u001b[49m\u001b[43moperation_name\u001b[49m\u001b[43m,\u001b[49m\u001b[43m \u001b[49m\u001b[43mkwargs\u001b[49m\u001b[43m)\u001b[49m\n",
      "File \u001b[0;32m~/anaconda3/envs/python3/lib/python3.10/site-packages/botocore/client.py:964\u001b[0m, in \u001b[0;36mBaseClient._make_api_call\u001b[0;34m(self, operation_name, api_params)\u001b[0m\n\u001b[1;32m    962\u001b[0m     error_code \u001b[38;5;241m=\u001b[39m parsed_response\u001b[38;5;241m.\u001b[39mget(\u001b[38;5;124m\"\u001b[39m\u001b[38;5;124mError\u001b[39m\u001b[38;5;124m\"\u001b[39m, {})\u001b[38;5;241m.\u001b[39mget(\u001b[38;5;124m\"\u001b[39m\u001b[38;5;124mCode\u001b[39m\u001b[38;5;124m\"\u001b[39m)\n\u001b[1;32m    963\u001b[0m     error_class \u001b[38;5;241m=\u001b[39m \u001b[38;5;28mself\u001b[39m\u001b[38;5;241m.\u001b[39mexceptions\u001b[38;5;241m.\u001b[39mfrom_code(error_code)\n\u001b[0;32m--> 964\u001b[0m     \u001b[38;5;28;01mraise\u001b[39;00m error_class(parsed_response, operation_name)\n\u001b[1;32m    965\u001b[0m \u001b[38;5;28;01melse\u001b[39;00m:\n\u001b[1;32m    966\u001b[0m     \u001b[38;5;28;01mreturn\u001b[39;00m parsed_response\n",
      "\u001b[0;31mResourceAlreadyExistsException\u001b[0m: An error occurred (ResourceAlreadyExistsException) when calling the CreateLogGroup operation: The specified log group already exists"
     ]
    }
   ],
   "source": [
    "# Create the endpoint\n",
    "log_group_name = '/aws/sagemaker/chatgptdetector-endpoint'  # Replace with your desired log group name\n",
    "# Create the CloudWatch log group\n",
    "logs = boto3.client('logs', region_name='ap-southeast-2')  # Replace with your desired region\n",
    "logs.create_log_group(logGroupName=log_group_name)"
   ]
  },
  {
   "cell_type": "code",
   "execution_count": 6,
   "id": "1be5b2d7",
   "metadata": {
    "tags": []
   },
   "outputs": [
    {
     "name": "stdout",
     "output_type": "stream",
     "text": [
      "Endpoint creation process started. This may take several minutes.\n",
      "Please check the AWS SageMaker console for endpoint status.\n"
     ]
    }
   ],
   "source": [
    "create_endpoint_response = sagemaker.create_endpoint(\n",
    "    EndpointName=endpoint_name,\n",
    "    EndpointConfigName=endpoint_config_name,\n",
    "    Tags=[\n",
    "        {\n",
    "            'Key': 'log_group',\n",
    "            'Value': log_group_name\n",
    "        },\n",
    "    ]\n",
    ")\n",
    "\n",
    "print(\"Endpoint creation process started. This may take several minutes.\")\n",
    "print(\"Please check the AWS SageMaker console for endpoint status.\")"
   ]
  },
  {
   "cell_type": "code",
   "execution_count": 15,
   "id": "350a07d0-b8fb-4b4d-9803-790434074805",
   "metadata": {
    "tags": []
   },
   "outputs": [
    {
     "name": "stdout",
     "output_type": "stream",
     "text": [
      "b'{\"input_text\":\"This is a testinput\",\"predicted_class\":0}\\n'\n"
     ]
    }
   ],
   "source": [
    "import boto3\n",
    "import json\n",
    "\n",
    "\n",
    "# Define the input text for prediction\n",
    "input_text = \"This is a testinput\"\n",
    "\n",
    "# Create the request payload\n",
    "payload = json.dumps({\"input_text\": input_text}).encode()\n",
    "\n",
    "sample_data = payload\n",
    "\n",
    "runtime = boto3.client('runtime.sagemaker')\n",
    "response = runtime.invoke_endpoint(EndpointName='chatgpt-detector-endpoint',\n",
    "                                   ContentType='application/json',\n",
    "                                   Body=sample_data)\n",
    "print(response['Body'].read())"
   ]
  },
  {
   "cell_type": "code",
   "execution_count": 16,
   "id": "b231f713-05a8-4c12-a810-e298178f41d5",
   "metadata": {
    "tags": []
   },
   "outputs": [
    {
     "data": {
      "text/plain": [
       "<botocore.response.StreamingBody at 0x7f0687898640>"
      ]
     },
     "execution_count": 16,
     "metadata": {},
     "output_type": "execute_result"
    }
   ],
   "source": [
    "response['Body']"
   ]
  },
  {
   "cell_type": "code",
   "execution_count": null,
   "id": "a7eaa29d-fd27-4e45-a4e1-c260e4bbd11a",
   "metadata": {},
   "outputs": [],
   "source": []
  }
 ],
 "metadata": {
  "kernelspec": {
   "display_name": "conda_python3",
   "language": "python",
   "name": "conda_python3"
  },
  "language_info": {
   "codemirror_mode": {
    "name": "ipython",
    "version": 3
   },
   "file_extension": ".py",
   "mimetype": "text/x-python",
   "name": "python",
   "nbconvert_exporter": "python",
   "pygments_lexer": "ipython3",
   "version": "3.10.10"
  }
 },
 "nbformat": 4,
 "nbformat_minor": 5
}
